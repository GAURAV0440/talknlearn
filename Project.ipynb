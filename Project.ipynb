{
 "cells": [
  {
   "cell_type": "code",
   "execution_count": 37,
   "id": "adb5df8f-f9ae-4ac5-9adb-8337282ec88f",
   "metadata": {},
   "outputs": [
    {
     "name": "stdout",
     "output_type": "stream",
     "text": [
      "Requirement already satisfied: google-generativeai in c:\\users\\pc\\anaconda3\\lib\\site-packages (0.8.4)\n",
      "Requirement already satisfied: python-dotenv in c:\\users\\pc\\anaconda3\\lib\\site-packages (0.21.0)\n",
      "Requirement already satisfied: google-ai-generativelanguage==0.6.15 in c:\\users\\pc\\anaconda3\\lib\\site-packages (from google-generativeai) (0.6.15)\n",
      "Requirement already satisfied: google-api-core in c:\\users\\pc\\anaconda3\\lib\\site-packages (from google-generativeai) (2.24.2)\n",
      "Requirement already satisfied: google-api-python-client in c:\\users\\pc\\anaconda3\\lib\\site-packages (from google-generativeai) (2.165.0)\n",
      "Requirement already satisfied: google-auth>=2.15.0 in c:\\users\\pc\\anaconda3\\lib\\site-packages (from google-generativeai) (2.38.0)\n",
      "Requirement already satisfied: protobuf in c:\\users\\pc\\anaconda3\\lib\\site-packages (from google-generativeai) (5.29.4)\n",
      "Requirement already satisfied: pydantic in c:\\users\\pc\\anaconda3\\lib\\site-packages (from google-generativeai) (2.8.2)\n",
      "Requirement already satisfied: tqdm in c:\\users\\pc\\anaconda3\\lib\\site-packages (from google-generativeai) (4.66.5)\n",
      "Requirement already satisfied: typing-extensions in c:\\users\\pc\\anaconda3\\lib\\site-packages (from google-generativeai) (4.11.0)\n",
      "Requirement already satisfied: proto-plus<2.0.0dev,>=1.22.3 in c:\\users\\pc\\anaconda3\\lib\\site-packages (from google-ai-generativelanguage==0.6.15->google-generativeai) (1.26.1)\n",
      "Requirement already satisfied: googleapis-common-protos<2.0.0,>=1.56.2 in c:\\users\\pc\\anaconda3\\lib\\site-packages (from google-api-core->google-generativeai) (1.69.2)\n",
      "Requirement already satisfied: requests<3.0.0,>=2.18.0 in c:\\users\\pc\\anaconda3\\lib\\site-packages (from google-api-core->google-generativeai) (2.32.3)\n",
      "Requirement already satisfied: cachetools<6.0,>=2.0.0 in c:\\users\\pc\\anaconda3\\lib\\site-packages (from google-auth>=2.15.0->google-generativeai) (5.3.3)\n",
      "Requirement already satisfied: pyasn1-modules>=0.2.1 in c:\\users\\pc\\anaconda3\\lib\\site-packages (from google-auth>=2.15.0->google-generativeai) (0.2.8)\n",
      "Requirement already satisfied: rsa<5,>=3.1.4 in c:\\users\\pc\\anaconda3\\lib\\site-packages (from google-auth>=2.15.0->google-generativeai) (4.9)\n",
      "Requirement already satisfied: httplib2<1.0.0,>=0.19.0 in c:\\users\\pc\\anaconda3\\lib\\site-packages (from google-api-python-client->google-generativeai) (0.22.0)\n",
      "Requirement already satisfied: google-auth-httplib2<1.0.0,>=0.2.0 in c:\\users\\pc\\anaconda3\\lib\\site-packages (from google-api-python-client->google-generativeai) (0.2.0)\n",
      "Requirement already satisfied: uritemplate<5,>=3.0.1 in c:\\users\\pc\\anaconda3\\lib\\site-packages (from google-api-python-client->google-generativeai) (4.1.1)\n",
      "Requirement already satisfied: annotated-types>=0.4.0 in c:\\users\\pc\\anaconda3\\lib\\site-packages (from pydantic->google-generativeai) (0.6.0)\n",
      "Requirement already satisfied: pydantic-core==2.20.1 in c:\\users\\pc\\anaconda3\\lib\\site-packages (from pydantic->google-generativeai) (2.20.1)\n",
      "Requirement already satisfied: colorama in c:\\users\\pc\\anaconda3\\lib\\site-packages (from tqdm->google-generativeai) (0.4.6)\n",
      "Requirement already satisfied: grpcio<2.0dev,>=1.33.2 in c:\\users\\pc\\anaconda3\\lib\\site-packages (from google-api-core[grpc]!=2.0.*,!=2.1.*,!=2.10.*,!=2.2.*,!=2.3.*,!=2.4.*,!=2.5.*,!=2.6.*,!=2.7.*,!=2.8.*,!=2.9.*,<3.0.0dev,>=1.34.1->google-ai-generativelanguage==0.6.15->google-generativeai) (1.71.0)\n",
      "Requirement already satisfied: grpcio-status<2.0.dev0,>=1.33.2 in c:\\users\\pc\\anaconda3\\lib\\site-packages (from google-api-core[grpc]!=2.0.*,!=2.1.*,!=2.10.*,!=2.2.*,!=2.3.*,!=2.4.*,!=2.5.*,!=2.6.*,!=2.7.*,!=2.8.*,!=2.9.*,<3.0.0dev,>=1.34.1->google-ai-generativelanguage==0.6.15->google-generativeai) (1.71.0)\n",
      "Requirement already satisfied: pyparsing!=3.0.0,!=3.0.1,!=3.0.2,!=3.0.3,<4,>=2.4.2 in c:\\users\\pc\\anaconda3\\lib\\site-packages (from httplib2<1.0.0,>=0.19.0->google-api-python-client->google-generativeai) (3.1.2)\n",
      "Requirement already satisfied: pyasn1<0.5.0,>=0.4.6 in c:\\users\\pc\\anaconda3\\lib\\site-packages (from pyasn1-modules>=0.2.1->google-auth>=2.15.0->google-generativeai) (0.4.8)\n",
      "Requirement already satisfied: charset-normalizer<4,>=2 in c:\\users\\pc\\anaconda3\\lib\\site-packages (from requests<3.0.0,>=2.18.0->google-api-core->google-generativeai) (3.3.2)\n",
      "Requirement already satisfied: idna<4,>=2.5 in c:\\users\\pc\\anaconda3\\lib\\site-packages (from requests<3.0.0,>=2.18.0->google-api-core->google-generativeai) (3.7)\n",
      "Requirement already satisfied: urllib3<3,>=1.21.1 in c:\\users\\pc\\anaconda3\\lib\\site-packages (from requests<3.0.0,>=2.18.0->google-api-core->google-generativeai) (2.2.3)\n",
      "Requirement already satisfied: certifi>=2017.4.17 in c:\\users\\pc\\anaconda3\\lib\\site-packages (from requests<3.0.0,>=2.18.0->google-api-core->google-generativeai) (2025.1.31)\n"
     ]
    }
   ],
   "source": [
    "# Step 1: Install Required Packages\n",
    "!pip install google-generativeai python-dotenv\n",
    "\n",
    "# Step 2: Import Libraries\n",
    "import os\n",
    "import sqlite3\n",
    "from dotenv import load_dotenv\n",
    "import google.generativeai as genai"
   ]
  },
  {
   "cell_type": "code",
   "execution_count": 39,
   "id": "461fddd5-c53c-4377-8346-c86fa48c25e6",
   "metadata": {},
   "outputs": [],
   "source": [
    "# Step 3: Load API Key from .env File\n",
    "load_dotenv()\n",
    "api_key = os.getenv(\"GEMINI_API_KEY\")\n",
    "genai.configure(api_key=api_key)\n",
    "\n",
    "# Step 4: Load Gemini Model\n",
    "model = genai.GenerativeModel(\"models/gemini-1.5-pro-latest\")"
   ]
  },
  {
   "cell_type": "code",
   "execution_count": 53,
   "id": "b9a86644-7d14-4f20-ba35-5de3b36b7bb9",
   "metadata": {},
   "outputs": [
    {
     "name": "stdin",
     "output_type": "stream",
     "text": [
      "Which language do you want to learn?  hindi\n",
      "Which language do you already know?  english\n",
      "Your level? (Beginner / Intermediate / Advanced):  beginner\n"
     ]
    },
    {
     "name": "stdout",
     "output_type": "stream",
     "text": [
      "\n",
      " Scene:\n",
      " ## Coffee Shop Chit-Chat\n",
      "\n",
      "**Characters:**\n",
      "\n",
      "* **You:** A beginner Hindi learner.\n",
      "* **Anika:** A friendly barista who speaks Hindi and English.\n",
      "\n",
      "\n",
      "**(Scene: You walk into a coffee shop. Anika is behind the counter.)**\n",
      "\n",
      "\n",
      "**Anika:** Hi there! Welcome! \n",
      "\n",
      "**You:** Hi!  \n",
      "\n",
      "**Anika:** What can I get for you?\n",
      "\n",
      "**You:**  Um... ek coffee, kripya. (One coffee, please.)\n",
      "\n",
      "**Anika:** (Smiling)  Bilkul! (Certainly!)  Do you want milk with that? Doodh chahiye?\n",
      "\n",
      "**You:** Haan, kripya. (Yes, please.)\n",
      "\n",
      "**Anika:**  Aur kuch? (Anything else?)\n",
      "\n",
      "**You:**  Shayad ek cookie? (Maybe a cookie?)\n",
      "\n",
      "**Anika:**  Good choice! We have chocolate chip and oatmeal.  \n",
      "\n",
      "**You:** Chocolate chip, kripya.\n",
      "\n",
      "**Anika:** Okay!  That will be 50 rupees.\n",
      "\n",
      "**You:**  (Handing over the money)  Yeh lo. (Here you go.)\n",
      "\n",
      "**Anika:**  Shukriya! (Thank you!) Your coffee and cookie will be ready in just a minute.  Aap kaise hain? (How are you?)\n",
      "\n",
      "**You:**  Main theek hoon, shukriya. Aap kaise hain? (I am fine, thank you. How are you?)\n",
      "\n",
      "**Anika:** Main bhi theek hoon.  (I am also fine.)  Here's your order!\n",
      "\n",
      "**You:**  Dhanyavaad! (Thank you!)\n",
      "\n",
      "**Anika:**  Aapka swagat hai! (You're welcome!) Enjoy!\n",
      "\n",
      "\n",
      "\n",
      "**(Vocabulary used:**\n",
      "\n",
      "* Ek - One\n",
      "* Coffee - Coffee (same in Hindi and English)\n",
      "* Kripya - Please\n",
      "* Bilkul - Certainly\n",
      "* Doodh - Milk\n",
      "* Chahiye - Do you want/need\n",
      "* Haan - Yes\n",
      "* Aur kuch - Anything else\n",
      "* Shayad - Maybe\n",
      "* Cookie - Cookie (same in Hindi and English)\n",
      "* Rupees - Rupees\n",
      "* Yeh lo - Here you go\n",
      "* Shukriya - Thank you\n",
      "* Aap kaise hain - How are you?\n",
      "* Main theek hoon - I am fine\n",
      "* Bhi - Also/too\n",
      "* Dhanyavaad - Thank you (more formal)\n",
      "* Aapka swagat hai - You're welcome)\n",
      "\n",
      "\n",
      "This short roleplay utilizes very basic phrases and allows the learner to practice common greetings, ordering, and simple pleasantries.  It also reinforces the use of \"kripya\" (please) which is important in Hindi culture.  Remember to practice the pronunciation!  Good luck!\n",
      "\n"
     ]
    }
   ],
   "source": [
    "# Step 5: Get User Preferences\n",
    "learning_language = input(\"Which language do you want to learn? \")\n",
    "known_language = input(\"Which language do you already know? \")\n",
    "proficiency_level = input(\"Your level? (Beginner / Intermediate / Advanced): \")\n",
    "\n",
    "# Step 6: Generate Roleplay Scene\n",
    "scene_prompt = f\"\"\"\n",
    "Create a short, friendly roleplay for a {proficiency_level.lower()} learner.\n",
    "They know {known_language} and are learning {learning_language}.\n",
    "Use casual tone and include basic phrases in {learning_language}.\n",
    "\"\"\"\n",
    "\n",
    "scene = model.generate_content(scene_prompt)\n",
    "print(\"\\n Scene:\\n\", scene.text)"
   ]
  },
  {
   "cell_type": "code",
   "execution_count": 57,
   "id": "d0a8e0ad-f47a-4371-9e9a-6fd0f6ea6621",
   "metadata": {},
   "outputs": [
    {
     "name": "stdout",
     "output_type": "stream",
     "text": [
      "\n",
      " Chat started! Type 'exit' to stop.\n",
      "\n"
     ]
    },
    {
     "name": "stdin",
     "output_type": "stream",
     "text": [
      "You:  exit\n"
     ]
    },
    {
     "name": "stdout",
     "output_type": "stream",
     "text": [
      "\n",
      " Chat ended. Mistakes will be shown next.\n"
     ]
    }
   ],
   "source": [
    "# Step 7: Start Interactive Chat\n",
    "mistake_log = []\n",
    "print(\"\\n Chat started! Type 'exit' to stop.\\n\")\n",
    "\n",
    "while True:\n",
    "    user_input = input(\"You: \")\n",
    "    if user_input.lower() == \"exit\":\n",
    "        print(\"\\n Chat ended. Mistakes will be shown next.\")\n",
    "        break\n",
    "\n",
    "    prompt = f\"\"\"\n",
    "You are a {learning_language} language tutor.\n",
    "Respond only in {learning_language}.\n",
    "Correct mistakes gently and explain why.\n",
    "If correct, encourage the user.\n",
    "User's input: \"{user_input}\"\n",
    "\"\"\"\n",
    "\n",
    "    reply = model.generate_content(prompt).text.strip()\n",
    "    print(\"Bot:\", reply)\n",
    "\n",
    "    if any(x in reply.lower() for x in [\"correct\", \"should be\", \"instead\"]):\n",
    "        mistake_log.append({\"user_input\": user_input, \"correction\": reply})"
   ]
  },
  {
   "cell_type": "code",
   "execution_count": 59,
   "id": "a9f7944e-328a-4b72-aa13-7921f0ca2f05",
   "metadata": {},
   "outputs": [
    {
     "name": "stdout",
     "output_type": "stream",
     "text": [
      "\n",
      " Mistake Summary:\n",
      "No noticeable mistakes.\n"
     ]
    }
   ],
   "source": [
    "#  Step 8: Show Mistake Summary\n",
    "print(\"\\n Mistake Summary:\")\n",
    "\n",
    "if not mistake_log:\n",
    "    print(\"No noticeable mistakes.\")\n",
    "else:\n",
    "    for i, m in enumerate(mistake_log, 1):\n",
    "        print(f\"\\n🔸 Mistake {i}\")\n",
    "        print(\"Input:\", m[\"user_input\"])\n",
    "        print(\"Feedback:\", m[\"correction\"])"
   ]
  },
  {
   "cell_type": "code",
   "execution_count": 61,
   "id": "a0c7e956-9b11-4446-94d0-588ebe071be5",
   "metadata": {},
   "outputs": [
    {
     "name": "stdout",
     "output_type": "stream",
     "text": [
      "\n",
      " Review Summary:\n",
      " Okay, let's have a look.  It seems you're struggling a bit with [mention the specific area, e.g., genders, verb conjugations, postpositions].  Don't worry, these are common areas to trip up on!  With a little more practice, you'll get the hang of it. Let's focus on [mention the specific issue within the area, e.g., masculine vs. feminine nouns, matching verb endings with subject pronouns, using the correct postposition for location].  We can do some exercises together to help solidify this.  Keep up the good work! 😊\n"
     ]
    }
   ],
   "source": [
    "# Step 9: Generate Review Summary\n",
    "feedback_prompt = f\"\"\"\n",
    "You are a {learning_language} tutor.\n",
    "The student made the following mistakes: {[m['user_input'] for m in mistake_log]}\n",
    "Give a short, friendly summary of what they should improve.\n",
    "\"\"\"\n",
    "\n",
    "review = model.generate_content(feedback_prompt).text.strip()\n",
    "print(\"\\n Review Summary:\\n\", review)"
   ]
  },
  {
   "cell_type": "code",
   "execution_count": 63,
   "id": "d5a5d774-e09b-4b1d-a836-4c3c0c11e6b5",
   "metadata": {},
   "outputs": [
    {
     "name": "stdout",
     "output_type": "stream",
     "text": [
      " 0 mistake(s) saved to the database.\n"
     ]
    }
   ],
   "source": [
    "# Step 10: Save Mistakes to Database\n",
    "conn = sqlite3.connect(\"mistakes.db\")\n",
    "cursor = conn.cursor()\n",
    "\n",
    "cursor.execute(\"\"\"\n",
    "CREATE TABLE IF NOT EXISTS mistakes (\n",
    "    id INTEGER PRIMARY KEY AUTOINCREMENT,\n",
    "    user_input TEXT,\n",
    "    correction TEXT\n",
    ")\n",
    "\"\"\")\n",
    "\n",
    "for m in mistake_log:\n",
    "    cursor.execute(\"INSERT INTO mistakes (user_input, correction) VALUES (?, ?)\", (m[\"user_input\"], m[\"correction\"]))\n",
    "\n",
    "conn.commit()\n",
    "print(f\" {len(mistake_log)} mistake(s) saved to the database.\")"
   ]
  },
  {
   "cell_type": "code",
   "execution_count": 69,
   "id": "a3688f72-9255-4804-9a55-736205827b50",
   "metadata": {},
   "outputs": [
    {
     "name": "stdout",
     "output_type": "stream",
     "text": [
      " Saved Mistakes:\n",
      "\n",
      "ID: 1 | Input: hii i am gaurav | Correction: The sentence has a few mistakes. \"hii\" is informal English and should be \"Hi\" or \"Hello\".  \"i\" needs to be capitalized as \"I\".  \"am\" is the English word for \"to be\".  In German, \"to be\" is \"sein\", and conjugated for \"I\", it's \"bin\".  \"Gaurav\" is your name and remains unchanged. The correct sentence in German is: \"Hallo, ich bin Gaurav.\"\n",
      "\n",
      "ID: 2 | Input: hii i am gaurav | Correction: The sentence \"hii i am gaurav\" has a few issues when translating to Spanish.  \"hii\" is an informal English greeting, and \"i am\" translates to \"soy\" when stating your name.  Capitalization is also important for proper names. The correct Spanish translation is \"Hola, soy Gaurav.\"\n",
      "\n",
      "ID: 3 | Input: Yo es bien, gracias. Y tú? | Correction: The main issue is with \"Yo es bien\".  The correct way to say \"I am well\" is \"Yo estoy bien\".  \"Es\" comes from the verb \"ser\" (to be) which is used for permanent or inherent characteristics.  \"Estoy\" comes from the verb \"estar\" (to be) which is used for temporary states like how you're feeling. Also, \"bien\" means \"well\" while \"bueno/buena/buenos/buenas\" means \"good.\"  In this context, \"bien\" is the better choice.\n",
      "\n",
      "ID: 4 | Input: hii i am gaurav | Correction: The sentence \"hii i am gaurav\" has a few issues.  \"Hii\" is an informal English greeting, and \"i am\" should be capitalized. In Spanish, you'd say \"Hola, soy Gaurav\" (Hi, I'm Gaurav) or \"Hola, me llamo Gaurav\" (Hi, my name is Gaurav).\n",
      "\n",
      "ID: 5 | Input: Hola, me es Gaurav. Estoy bueno. | Correction: There are a couple of things here.  \"Me es Gaurav\" is not the correct way to introduce yourself.  You should say \"Me llamo Gaurav\" (My name is Gaurav) or \"Soy Gaurav\" (I am Gaurav). Also, \"Estoy bueno\" means \"I am good\" in the sense of well-behaved or tasty (like a good meal). To say you are well (feeling good), you'd use \"Estoy bien\".\n",
      "\n",
      "ID: 6 | Input: hi i am gaurav | Correction: The sentence \"hi i am gaurav\" is a good start, but to translate it into Spanish, we need to use the correct vocabulary and grammar.  \"Hi\" can be translated as \"Hola\". \"I am\" is \"soy\" or \"me llamo\".  While you can say \"Soy Gaurav\", using \"Me llamo Gaurav\" (My name is Gaurav) is more common when introducing yourself.\n",
      "\n",
      "ID: 7 | Input: Hola, me es Gaurav. Estoy bueno. | Correction: There are a couple of mistakes.  \"Me es\" is used to express possession or something relating to you, like \"Me es importante\" (It's important to me). To introduce yourself, you should use \"Soy\" (I am).  Also, \"Estoy bueno\" means \"I am good\" in the sense of well-being or moral character. To say you are well, you'd use \"Estoy bien\".  So the correct sentence is \"Hola, soy Gaurav. Estoy bien.\"\n",
      "\n",
      "ID: 8 | Input: Yo es bien, gracias. | Correction: The mistake is in the verb \"ser\" (to be).  You used \"es\" (he/she/it is), but with the pronoun \"yo\" (I), you need to use \"soy\" (I am).  Also, \"bien\" means \"well\" but is usually used with \"estar\" (to be, for temporary states).  To say \"I am well,\" the most common way is \"Estoy bien.\"\n",
      "\n",
      "ID: 9 | Input: hi i am gaurav | Correction: Hallo, ich bin Gaurav.\n",
      "\n",
      "ID: 10 | Input: Hi, ich ist Gaurav. | Correction: Hi, ich bin Gaurav.\n",
      "\n",
      "ID: 11 | Input: hi i am Gaurav | Correction: Hallo, ich bin Gaurav.\n"
     ]
    }
   ],
   "source": [
    "# Step 11: View Saved Mistakes from Database\n",
    "cursor.execute(\"SELECT * FROM mistakes\")\n",
    "rows = cursor.fetchall()\n",
    "\n",
    "if rows:\n",
    "    print(\" Saved Mistakes:\")\n",
    "    for r in rows:\n",
    "        print(f\"\\nID: {r[0]} | Input: {r[1]} | Correction: {r[2]}\")\n",
    "else:\n",
    "    print(\"No saved mistakes. You're crushing it \")"
   ]
  },
  {
   "cell_type": "code",
   "execution_count": null,
   "id": "38f8d15a-34dc-4e35-b297-e6f2441235b7",
   "metadata": {},
   "outputs": [],
   "source": []
  }
 ],
 "metadata": {
  "kernelspec": {
   "display_name": "Python [conda env:base] *",
   "language": "python",
   "name": "conda-base-py"
  },
  "language_info": {
   "codemirror_mode": {
    "name": "ipython",
    "version": 3
   },
   "file_extension": ".py",
   "mimetype": "text/x-python",
   "name": "python",
   "nbconvert_exporter": "python",
   "pygments_lexer": "ipython3",
   "version": "3.12.7"
  }
 },
 "nbformat": 4,
 "nbformat_minor": 5
}
