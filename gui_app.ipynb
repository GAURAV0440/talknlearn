{
 "cells": [
  {
   "cell_type": "code",
   "execution_count": 10,
   "id": "a433165f-d378-4338-ba51-b9802b01aa69",
   "metadata": {},
   "outputs": [
    {
     "name": "stdout",
     "output_type": "stream",
     "text": [
      "Requirement already satisfied: gradio in c:\\users\\pc\\anaconda3\\lib\\site-packages (5.23.1)\n",
      "Requirement already satisfied: aiofiles<24.0,>=22.0 in c:\\users\\pc\\anaconda3\\lib\\site-packages (from gradio) (23.2.1)\n",
      "Requirement already satisfied: anyio<5.0,>=3.0 in c:\\users\\pc\\anaconda3\\lib\\site-packages (from gradio) (4.2.0)\n",
      "Requirement already satisfied: fastapi<1.0,>=0.115.2 in c:\\users\\pc\\anaconda3\\lib\\site-packages (from gradio) (0.115.12)\n",
      "Requirement already satisfied: ffmpy in c:\\users\\pc\\anaconda3\\lib\\site-packages (from gradio) (0.5.0)\n",
      "Requirement already satisfied: gradio-client==1.8.0 in c:\\users\\pc\\anaconda3\\lib\\site-packages (from gradio) (1.8.0)\n",
      "Requirement already satisfied: groovy~=0.1 in c:\\users\\pc\\anaconda3\\lib\\site-packages (from gradio) (0.1.2)\n",
      "Requirement already satisfied: httpx>=0.24.1 in c:\\users\\pc\\anaconda3\\lib\\site-packages (from gradio) (0.27.0)\n",
      "Requirement already satisfied: huggingface-hub>=0.28.1 in c:\\users\\pc\\anaconda3\\lib\\site-packages (from gradio) (0.29.3)\n",
      "Requirement already satisfied: jinja2<4.0 in c:\\users\\pc\\anaconda3\\lib\\site-packages (from gradio) (3.1.4)\n",
      "Requirement already satisfied: markupsafe<4.0,>=2.0 in c:\\users\\pc\\anaconda3\\lib\\site-packages (from gradio) (2.1.3)\n",
      "Requirement already satisfied: numpy<3.0,>=1.0 in c:\\users\\pc\\anaconda3\\lib\\site-packages (from gradio) (1.26.4)\n",
      "Requirement already satisfied: orjson~=3.0 in c:\\users\\pc\\anaconda3\\lib\\site-packages (from gradio) (3.10.16)\n",
      "Requirement already satisfied: packaging in c:\\users\\pc\\anaconda3\\lib\\site-packages (from gradio) (24.1)\n",
      "Requirement already satisfied: pandas<3.0,>=1.0 in c:\\users\\pc\\anaconda3\\lib\\site-packages (from gradio) (2.2.2)\n",
      "Requirement already satisfied: pillow<12.0,>=8.0 in c:\\users\\pc\\anaconda3\\lib\\site-packages (from gradio) (10.4.0)\n",
      "Requirement already satisfied: pydantic>=2.0 in c:\\users\\pc\\anaconda3\\lib\\site-packages (from gradio) (2.8.2)\n",
      "Requirement already satisfied: pydub in c:\\users\\pc\\anaconda3\\lib\\site-packages (from gradio) (0.25.1)\n",
      "Requirement already satisfied: python-multipart>=0.0.18 in c:\\users\\pc\\anaconda3\\lib\\site-packages (from gradio) (0.0.20)\n",
      "Requirement already satisfied: pyyaml<7.0,>=5.0 in c:\\users\\pc\\anaconda3\\lib\\site-packages (from gradio) (6.0.1)\n",
      "Requirement already satisfied: ruff>=0.9.3 in c:\\users\\pc\\anaconda3\\lib\\site-packages (from gradio) (0.11.2)\n",
      "Requirement already satisfied: safehttpx<0.2.0,>=0.1.6 in c:\\users\\pc\\anaconda3\\lib\\site-packages (from gradio) (0.1.6)\n",
      "Requirement already satisfied: semantic-version~=2.0 in c:\\users\\pc\\anaconda3\\lib\\site-packages (from gradio) (2.10.0)\n",
      "Requirement already satisfied: starlette<1.0,>=0.40.0 in c:\\users\\pc\\anaconda3\\lib\\site-packages (from gradio) (0.46.1)\n",
      "Requirement already satisfied: tomlkit<0.14.0,>=0.12.0 in c:\\users\\pc\\anaconda3\\lib\\site-packages (from gradio) (0.13.2)\n",
      "Requirement already satisfied: typer<1.0,>=0.12 in c:\\users\\pc\\anaconda3\\lib\\site-packages (from gradio) (0.15.2)\n",
      "Requirement already satisfied: typing-extensions~=4.0 in c:\\users\\pc\\anaconda3\\lib\\site-packages (from gradio) (4.11.0)\n",
      "Requirement already satisfied: uvicorn>=0.14.0 in c:\\users\\pc\\anaconda3\\lib\\site-packages (from gradio) (0.34.0)\n",
      "Requirement already satisfied: fsspec in c:\\users\\pc\\anaconda3\\lib\\site-packages (from gradio-client==1.8.0->gradio) (2024.6.1)\n",
      "Requirement already satisfied: websockets<16.0,>=10.0 in c:\\users\\pc\\anaconda3\\lib\\site-packages (from gradio-client==1.8.0->gradio) (15.0.1)\n",
      "Requirement already satisfied: idna>=2.8 in c:\\users\\pc\\anaconda3\\lib\\site-packages (from anyio<5.0,>=3.0->gradio) (3.7)\n",
      "Requirement already satisfied: sniffio>=1.1 in c:\\users\\pc\\anaconda3\\lib\\site-packages (from anyio<5.0,>=3.0->gradio) (1.3.0)\n",
      "Requirement already satisfied: certifi in c:\\users\\pc\\anaconda3\\lib\\site-packages (from httpx>=0.24.1->gradio) (2025.1.31)\n",
      "Requirement already satisfied: httpcore==1.* in c:\\users\\pc\\anaconda3\\lib\\site-packages (from httpx>=0.24.1->gradio) (1.0.2)\n",
      "Requirement already satisfied: h11<0.15,>=0.13 in c:\\users\\pc\\anaconda3\\lib\\site-packages (from httpcore==1.*->httpx>=0.24.1->gradio) (0.14.0)\n",
      "Requirement already satisfied: filelock in c:\\users\\pc\\anaconda3\\lib\\site-packages (from huggingface-hub>=0.28.1->gradio) (3.13.1)\n",
      "Requirement already satisfied: requests in c:\\users\\pc\\anaconda3\\lib\\site-packages (from huggingface-hub>=0.28.1->gradio) (2.32.3)\n",
      "Requirement already satisfied: tqdm>=4.42.1 in c:\\users\\pc\\anaconda3\\lib\\site-packages (from huggingface-hub>=0.28.1->gradio) (4.66.5)\n",
      "Requirement already satisfied: python-dateutil>=2.8.2 in c:\\users\\pc\\anaconda3\\lib\\site-packages (from pandas<3.0,>=1.0->gradio) (2.9.0.post0)\n",
      "Requirement already satisfied: pytz>=2020.1 in c:\\users\\pc\\anaconda3\\lib\\site-packages (from pandas<3.0,>=1.0->gradio) (2024.1)\n",
      "Requirement already satisfied: tzdata>=2022.7 in c:\\users\\pc\\anaconda3\\lib\\site-packages (from pandas<3.0,>=1.0->gradio) (2023.3)\n",
      "Requirement already satisfied: annotated-types>=0.4.0 in c:\\users\\pc\\anaconda3\\lib\\site-packages (from pydantic>=2.0->gradio) (0.6.0)\n",
      "Requirement already satisfied: pydantic-core==2.20.1 in c:\\users\\pc\\anaconda3\\lib\\site-packages (from pydantic>=2.0->gradio) (2.20.1)\n",
      "Requirement already satisfied: click>=8.0.0 in c:\\users\\pc\\anaconda3\\lib\\site-packages (from typer<1.0,>=0.12->gradio) (8.1.7)\n",
      "Requirement already satisfied: shellingham>=1.3.0 in c:\\users\\pc\\anaconda3\\lib\\site-packages (from typer<1.0,>=0.12->gradio) (1.5.0)\n",
      "Requirement already satisfied: rich>=10.11.0 in c:\\users\\pc\\anaconda3\\lib\\site-packages (from typer<1.0,>=0.12->gradio) (13.7.1)\n",
      "Requirement already satisfied: colorama in c:\\users\\pc\\anaconda3\\lib\\site-packages (from click>=8.0.0->typer<1.0,>=0.12->gradio) (0.4.6)\n",
      "Requirement already satisfied: six>=1.5 in c:\\users\\pc\\anaconda3\\lib\\site-packages (from python-dateutil>=2.8.2->pandas<3.0,>=1.0->gradio) (1.16.0)\n",
      "Requirement already satisfied: markdown-it-py>=2.2.0 in c:\\users\\pc\\anaconda3\\lib\\site-packages (from rich>=10.11.0->typer<1.0,>=0.12->gradio) (2.2.0)\n",
      "Requirement already satisfied: pygments<3.0.0,>=2.13.0 in c:\\users\\pc\\anaconda3\\lib\\site-packages (from rich>=10.11.0->typer<1.0,>=0.12->gradio) (2.15.1)\n",
      "Requirement already satisfied: charset-normalizer<4,>=2 in c:\\users\\pc\\anaconda3\\lib\\site-packages (from requests->huggingface-hub>=0.28.1->gradio) (3.3.2)\n",
      "Requirement already satisfied: urllib3<3,>=1.21.1 in c:\\users\\pc\\anaconda3\\lib\\site-packages (from requests->huggingface-hub>=0.28.1->gradio) (2.2.3)\n",
      "Requirement already satisfied: mdurl~=0.1 in c:\\users\\pc\\anaconda3\\lib\\site-packages (from markdown-it-py>=2.2.0->rich>=10.11.0->typer<1.0,>=0.12->gradio) (0.1.0)\n"
     ]
    }
   ],
   "source": [
    "!pip install gradio"
   ]
  },
  {
   "cell_type": "code",
   "execution_count": 44,
   "id": "2ed47002-8782-4c38-aae7-e95b81166cb5",
   "metadata": {},
   "outputs": [
    {
     "name": "stderr",
     "output_type": "stream",
     "text": [
      "C:\\Users\\PC\\AppData\\Local\\Temp\\ipykernel_18828\\4058074085.py:82: UserWarning: You have not specified a value for the `type` parameter. Defaulting to the 'tuples' format for chatbot messages, but this is deprecated and will be removed in a future version of Gradio. Please set type='messages' instead, which uses openai-style dictionaries with 'role' and 'content' keys.\n",
      "  chatbot = gr.Chatbot()\n"
     ]
    },
    {
     "name": "stdout",
     "output_type": "stream",
     "text": [
      "* Running on local URL:  http://127.0.0.1:7874\n",
      "\n",
      "To create a public link, set `share=True` in `launch()`.\n"
     ]
    },
    {
     "data": {
      "text/html": [
       "<div><iframe src=\"http://127.0.0.1:7874/\" width=\"100%\" height=\"500\" allow=\"autoplay; camera; microphone; clipboard-read; clipboard-write;\" frameborder=\"0\" allowfullscreen></iframe></div>"
      ],
      "text/plain": [
       "<IPython.core.display.HTML object>"
      ]
     },
     "metadata": {},
     "output_type": "display_data"
    },
    {
     "data": {
      "text/plain": []
     },
     "execution_count": 44,
     "metadata": {},
     "output_type": "execute_result"
    }
   ],
   "source": [
    "import os\n",
    "import gradio as gr\n",
    "import sqlite3\n",
    "from dotenv import load_dotenv\n",
    "import google.generativeai as genai\n",
    "\n",
    "# Load API key and model\n",
    "load_dotenv()\n",
    "genai.configure(api_key=os.getenv(\"GEMINI_API_KEY\"))\n",
    "model = genai.GenerativeModel(\"models/gemini-1.5-pro-latest\")\n",
    "\n",
    "# Setup SQLite DB\n",
    "conn = sqlite3.connect(\"mistakes.db\", check_same_thread=False)\n",
    "cursor = conn.cursor()\n",
    "cursor.execute(\"\"\"\n",
    "CREATE TABLE IF NOT EXISTS mistakes (\n",
    "    id INTEGER PRIMARY KEY AUTOINCREMENT,\n",
    "    user_input TEXT,\n",
    "    correction TEXT\n",
    ")\n",
    "\"\"\")\n",
    "conn.commit()\n",
    "\n",
    "# Chat logic\n",
    "\n",
    "def chat_with_bot(user_input, learning_lang, known_lang_list, level, history):\n",
    "    known_lang = \", \".join(known_lang_list) if isinstance(known_lang_list, list) else known_lang_list\n",
    "    prompt = f\"\"\"\n",
    "You are a friendly language tutor.\n",
    "The user is a {level} level learner learning {learning_lang} and knows {known_lang}.\n",
    "Here is the user's sentence: \"{user_input}\"\n",
    "\n",
    "Instructions:\n",
    "- If incorrect:\n",
    "    Mistake: Yes\n",
    "    Correction: [...]\n",
    "    Reply: [...]\n",
    "- If correct:\n",
    "    Mistake: No\n",
    "    Reply: [...]\n",
    "- ⚠️ Must follow format strictly.\n",
    "\"\"\"\n",
    "    try:\n",
    "        response = model.generate_content(prompt).text.strip()\n",
    "        if \"Mistake: Yes\" in response:\n",
    "            correction = response.split(\"Correction:\")[1].split(\"Reply:\")[0].strip()\n",
    "            reply = response.split(\"Reply:\")[1].strip()\n",
    "            cursor.execute(\"INSERT INTO mistakes (user_input, correction) VALUES (?, ?)\", (user_input, correction))\n",
    "            conn.commit()\n",
    "        else:\n",
    "            reply = response.split(\"Reply:\")[-1].strip()\n",
    "    except Exception as e:\n",
    "        reply = f\"Oops! Couldn't understand the tutor's reply.\\n\\nDEBUG: {e}\"\n",
    "\n",
    "    history.append((user_input, reply))\n",
    "    return \"\", history\n",
    "\n",
    "# View and clear\n",
    "\n",
    "def view_mistakes():\n",
    "    cursor.execute(\"SELECT * FROM mistakes\")\n",
    "    rows = cursor.fetchall()\n",
    "    return \"\\n\".join([f\"ID: {r[0]}\\nUser: {r[1]}\\nCorrection: {r[2]}\\n---\" for r in rows]) if rows else \"No mistakes logged yet.\"\n",
    "\n",
    "def clear_mistakes():\n",
    "    cursor.execute(\"DELETE FROM mistakes\")\n",
    "    conn.commit()\n",
    "    return \"All mistakes cleared.\"\n",
    "\n",
    "# Language options for dropdowns\n",
    "languages = sorted([\n",
    "    \"Arabic\", \"Bengali\", \"Chinese\", \"Dutch\", \"English\", \"French\", \"German\", \"Gujarati\",\n",
    "    \"Hebrew\", \"Hindi\", \"Italian\", \"Japanese\", \"Kannada\", \"Korean\", \"Malayalam\", \"Marathi\",\n",
    "    \"Portuguese\", \"Punjabi\", \"Russian\", \"Spanish\", \"Tamil\", \"Telugu\", \"Turkish\", \"Urdu\", \"Vietnamese\"\n",
    "])\n",
    "\n",
    "# Gradio UI\n",
    "with gr.Blocks() as demo:\n",
    "    gr.Markdown(\"# 🗣️ Language Learning Chatbot (Gemini)\")\n",
    "    gr.Markdown(\"Corrects your grammar gently while chatting in your learning language.\")\n",
    "\n",
    "    chatbot = gr.Chatbot()\n",
    "    msg = gr.Textbox(label=\"Your message\")\n",
    "    learning = gr.Dropdown(choices=languages, label=\"Language to learn\", allow_custom_value=True, filterable=True)\n",
    "    known = gr.CheckboxGroup(choices=languages, label=\"Languages you know\")\n",
    "    level = gr.Dropdown([\"Beginner\", \"Intermediate\", \"Advanced\"], label=\"Your level\", value=\"Beginner\")\n",
    "\n",
    "    with gr.Row():\n",
    "        send = gr.Button(\"Send\")\n",
    "        clear = gr.Button(\"Clear Chat\")\n",
    "    with gr.Row():\n",
    "        view = gr.Button(\"View Mistakes\")\n",
    "        reset = gr.Button(\"Clear Mistakes\")\n",
    "\n",
    "    log = gr.Textbox(label=\"Mistake Log\", lines=10)\n",
    "\n",
    "    send.click(chat_with_bot, [msg, learning, known, level, chatbot], [msg, chatbot])\n",
    "    clear.click(lambda: None, None, chatbot, queue=False)\n",
    "    view.click(view_mistakes, None, log)\n",
    "    reset.click(clear_mistakes, None, log)\n",
    "\n",
    "# Run app\n",
    "demo.launch()"
   ]
  },
  {
   "cell_type": "code",
   "execution_count": null,
   "id": "7c4c0050-95ae-41ee-9255-0c808b600eab",
   "metadata": {},
   "outputs": [],
   "source": []
  }
 ],
 "metadata": {
  "kernelspec": {
   "display_name": "Python [conda env:base] *",
   "language": "python",
   "name": "conda-base-py"
  },
  "language_info": {
   "codemirror_mode": {
    "name": "ipython",
    "version": 3
   },
   "file_extension": ".py",
   "mimetype": "text/x-python",
   "name": "python",
   "nbconvert_exporter": "python",
   "pygments_lexer": "ipython3",
   "version": "3.12.7"
  }
 },
 "nbformat": 4,
 "nbformat_minor": 5
}
